{
  "nbformat": 4,
  "nbformat_minor": 0,
  "metadata": {
    "accelerator": "GPU",
    "colab": {
      "name": "Lung_xray_project_VGG16.ipynb",
      "provenance": [],
      "collapsed_sections": []
    },
    "kernelspec": {
      "display_name": "Python 3",
      "name": "python3"
    },
    "language_info": {
      "name": "python"
    }
  },
  "cells": [
    {
      "cell_type": "code",
      "metadata": {
        "id": "afKLz7V-AIYT"
      },
      "source": [
        "#  import the libraries as shown below\n",
        "\n",
        "from tensorflow.keras.layers import Input, Lambda, Dense, Flatten,Conv2D\n",
        "from tensorflow.keras.models import Model\n",
        "from tensorflow.keras.applications.vgg16 import VGG16\n",
        "from tensorflow.keras.applications.resnet50 import preprocess_input\n",
        "from tensorflow.keras.preprocessing import image\n",
        "from tensorflow.keras.preprocessing.image import ImageDataGenerator,load_img\n",
        "from tensorflow.keras.models import Sequential\n",
        "import numpy as np\n",
        "from glob import glob\n",
        "import matplotlib.pyplot as plt"
      ],
      "execution_count": 1,
      "outputs": []
    },
    {
      "cell_type": "code",
      "metadata": {
        "id": "rHkW4ExjBJdh"
      },
      "source": [
        "# re-size all the images to this\n",
        "IMAGE_SIZE = [224, 224]\n",
        "\n",
        "train_path = '/content/drive/MyDrive/New_Dataset/train'\n",
        "valid_path = '/content/drive/MyDrive/New_Dataset/test'"
      ],
      "execution_count": 2,
      "outputs": []
    },
    {
      "cell_type": "code",
      "metadata": {
        "id": "YAu9JjFBCNYO",
        "colab": {
          "base_uri": "https://localhost:8080/"
        },
        "outputId": "bb5b4d7a-73fc-4368-adeb-bbc7566586a4"
      },
      "source": [
        "# Import the Vgg 16 library as shown below and add preprocessing layer to the front of VGG\n",
        "# Here we will be using imagenet weights\n",
        "\n",
        "vgg16 = VGG16(input_shape=IMAGE_SIZE + [3], weights='imagenet', include_top=False)"
      ],
      "execution_count": 3,
      "outputs": [
        {
          "output_type": "stream",
          "text": [
            "Downloading data from https://storage.googleapis.com/tensorflow/keras-applications/vgg16/vgg16_weights_tf_dim_ordering_tf_kernels_notop.h5\n",
            "58892288/58889256 [==============================] - 0s 0us/step\n"
          ],
          "name": "stdout"
        }
      ]
    },
    {
      "cell_type": "code",
      "metadata": {
        "id": "YJxYR010DeZR"
      },
      "source": [
        "# don't train existing weights\n",
        "for layer in vgg16.layers:\n",
        "    layer.trainable = False"
      ],
      "execution_count": 4,
      "outputs": []
    },
    {
      "cell_type": "code",
      "metadata": {
        "id": "rWLFa89qDuOW"
      },
      "source": [
        "folders = glob('/content/drive/MyDrive/New_Dataset/train/*')"
      ],
      "execution_count": 5,
      "outputs": []
    },
    {
      "cell_type": "code",
      "metadata": {
        "colab": {
          "base_uri": "https://localhost:8080/"
        },
        "id": "PqxJ5MqcD5py",
        "outputId": "35b06114-6c4e-451f-bb0a-0cf5d6df9d5b"
      },
      "source": [
        "folders"
      ],
      "execution_count": 6,
      "outputs": [
        {
          "output_type": "execute_result",
          "data": {
            "text/plain": [
              "['/content/drive/MyDrive/New_Dataset/train/covid+',\n",
              " '/content/drive/MyDrive/New_Dataset/train/normal']"
            ]
          },
          "metadata": {
            "tags": []
          },
          "execution_count": 6
        }
      ]
    },
    {
      "cell_type": "code",
      "metadata": {
        "colab": {
          "base_uri": "https://localhost:8080/"
        },
        "id": "79-qv9SVD7T7",
        "outputId": "0d3e1a60-dbd4-4f5d-aee6-d506b58d1d0d"
      },
      "source": [
        "vgg16.summary()"
      ],
      "execution_count": 7,
      "outputs": [
        {
          "output_type": "stream",
          "text": [
            "Model: \"vgg16\"\n",
            "_________________________________________________________________\n",
            "Layer (type)                 Output Shape              Param #   \n",
            "=================================================================\n",
            "input_1 (InputLayer)         [(None, 224, 224, 3)]     0         \n",
            "_________________________________________________________________\n",
            "block1_conv1 (Conv2D)        (None, 224, 224, 64)      1792      \n",
            "_________________________________________________________________\n",
            "block1_conv2 (Conv2D)        (None, 224, 224, 64)      36928     \n",
            "_________________________________________________________________\n",
            "block1_pool (MaxPooling2D)   (None, 112, 112, 64)      0         \n",
            "_________________________________________________________________\n",
            "block2_conv1 (Conv2D)        (None, 112, 112, 128)     73856     \n",
            "_________________________________________________________________\n",
            "block2_conv2 (Conv2D)        (None, 112, 112, 128)     147584    \n",
            "_________________________________________________________________\n",
            "block2_pool (MaxPooling2D)   (None, 56, 56, 128)       0         \n",
            "_________________________________________________________________\n",
            "block3_conv1 (Conv2D)        (None, 56, 56, 256)       295168    \n",
            "_________________________________________________________________\n",
            "block3_conv2 (Conv2D)        (None, 56, 56, 256)       590080    \n",
            "_________________________________________________________________\n",
            "block3_conv3 (Conv2D)        (None, 56, 56, 256)       590080    \n",
            "_________________________________________________________________\n",
            "block3_pool (MaxPooling2D)   (None, 28, 28, 256)       0         \n",
            "_________________________________________________________________\n",
            "block4_conv1 (Conv2D)        (None, 28, 28, 512)       1180160   \n",
            "_________________________________________________________________\n",
            "block4_conv2 (Conv2D)        (None, 28, 28, 512)       2359808   \n",
            "_________________________________________________________________\n",
            "block4_conv3 (Conv2D)        (None, 28, 28, 512)       2359808   \n",
            "_________________________________________________________________\n",
            "block4_pool (MaxPooling2D)   (None, 14, 14, 512)       0         \n",
            "_________________________________________________________________\n",
            "block5_conv1 (Conv2D)        (None, 14, 14, 512)       2359808   \n",
            "_________________________________________________________________\n",
            "block5_conv2 (Conv2D)        (None, 14, 14, 512)       2359808   \n",
            "_________________________________________________________________\n",
            "block5_conv3 (Conv2D)        (None, 14, 14, 512)       2359808   \n",
            "_________________________________________________________________\n",
            "block5_pool (MaxPooling2D)   (None, 7, 7, 512)         0         \n",
            "=================================================================\n",
            "Total params: 14,714,688\n",
            "Trainable params: 0\n",
            "Non-trainable params: 14,714,688\n",
            "_________________________________________________________________\n"
          ],
          "name": "stdout"
        }
      ]
    },
    {
      "cell_type": "code",
      "metadata": {
        "id": "KJVKMfTuEKiJ"
      },
      "source": [
        "\n",
        "\n",
        "# our layers - you can add more if you want\n",
        "x = Flatten()(vgg16.output)"
      ],
      "execution_count": 8,
      "outputs": []
    },
    {
      "cell_type": "code",
      "metadata": {
        "id": "01iIdlChFv3I"
      },
      "source": [
        "prediction = Dense(len(folders), activation='softmax')(x)\n",
        "\n",
        "# create a model object\n",
        "model = Model(inputs=vgg16.input, outputs=prediction)"
      ],
      "execution_count": 9,
      "outputs": []
    },
    {
      "cell_type": "code",
      "metadata": {
        "colab": {
          "base_uri": "https://localhost:8080/"
        },
        "id": "epbYON76F6a0",
        "outputId": "27e42f11-1cfd-40bc-a40f-ce1de83d46e2"
      },
      "source": [
        "model.summary()"
      ],
      "execution_count": 10,
      "outputs": [
        {
          "output_type": "stream",
          "text": [
            "Model: \"model\"\n",
            "_________________________________________________________________\n",
            "Layer (type)                 Output Shape              Param #   \n",
            "=================================================================\n",
            "input_1 (InputLayer)         [(None, 224, 224, 3)]     0         \n",
            "_________________________________________________________________\n",
            "block1_conv1 (Conv2D)        (None, 224, 224, 64)      1792      \n",
            "_________________________________________________________________\n",
            "block1_conv2 (Conv2D)        (None, 224, 224, 64)      36928     \n",
            "_________________________________________________________________\n",
            "block1_pool (MaxPooling2D)   (None, 112, 112, 64)      0         \n",
            "_________________________________________________________________\n",
            "block2_conv1 (Conv2D)        (None, 112, 112, 128)     73856     \n",
            "_________________________________________________________________\n",
            "block2_conv2 (Conv2D)        (None, 112, 112, 128)     147584    \n",
            "_________________________________________________________________\n",
            "block2_pool (MaxPooling2D)   (None, 56, 56, 128)       0         \n",
            "_________________________________________________________________\n",
            "block3_conv1 (Conv2D)        (None, 56, 56, 256)       295168    \n",
            "_________________________________________________________________\n",
            "block3_conv2 (Conv2D)        (None, 56, 56, 256)       590080    \n",
            "_________________________________________________________________\n",
            "block3_conv3 (Conv2D)        (None, 56, 56, 256)       590080    \n",
            "_________________________________________________________________\n",
            "block3_pool (MaxPooling2D)   (None, 28, 28, 256)       0         \n",
            "_________________________________________________________________\n",
            "block4_conv1 (Conv2D)        (None, 28, 28, 512)       1180160   \n",
            "_________________________________________________________________\n",
            "block4_conv2 (Conv2D)        (None, 28, 28, 512)       2359808   \n",
            "_________________________________________________________________\n",
            "block4_conv3 (Conv2D)        (None, 28, 28, 512)       2359808   \n",
            "_________________________________________________________________\n",
            "block4_pool (MaxPooling2D)   (None, 14, 14, 512)       0         \n",
            "_________________________________________________________________\n",
            "block5_conv1 (Conv2D)        (None, 14, 14, 512)       2359808   \n",
            "_________________________________________________________________\n",
            "block5_conv2 (Conv2D)        (None, 14, 14, 512)       2359808   \n",
            "_________________________________________________________________\n",
            "block5_conv3 (Conv2D)        (None, 14, 14, 512)       2359808   \n",
            "_________________________________________________________________\n",
            "block5_pool (MaxPooling2D)   (None, 7, 7, 512)         0         \n",
            "_________________________________________________________________\n",
            "flatten (Flatten)            (None, 25088)             0         \n",
            "_________________________________________________________________\n",
            "dense (Dense)                (None, 2)                 50178     \n",
            "=================================================================\n",
            "Total params: 14,764,866\n",
            "Trainable params: 50,178\n",
            "Non-trainable params: 14,714,688\n",
            "_________________________________________________________________\n"
          ],
          "name": "stdout"
        }
      ]
    },
    {
      "cell_type": "code",
      "metadata": {
        "id": "TS9WdGJBF8X8"
      },
      "source": [
        "model.compile(\n",
        "  loss='categorical_crossentropy',\n",
        "  optimizer='adam',\n",
        "  metrics=['accuracy']\n",
        ")"
      ],
      "execution_count": 11,
      "outputs": []
    },
    {
      "cell_type": "code",
      "metadata": {
        "id": "rIv2l8h_GaVp"
      },
      "source": [
        "# Use the Image Data Generator to import the images from the dataset\n",
        "from tensorflow.keras.preprocessing.image import ImageDataGenerator\n",
        "\n",
        "train_datagen = ImageDataGenerator(rescale = 1./255,\n",
        "                                   shear_range = 0.2,\n",
        "                                   zoom_range = 0.2,\n",
        "                                   horizontal_flip = True)\n",
        "\n",
        "test_datagen = ImageDataGenerator(rescale = 1./255)"
      ],
      "execution_count": 12,
      "outputs": []
    },
    {
      "cell_type": "code",
      "metadata": {
        "colab": {
          "base_uri": "https://localhost:8080/"
        },
        "id": "R5kXc6IiHdo-",
        "outputId": "3cc86a7b-dba1-4553-d5a0-a37ac547fbed"
      },
      "source": [
        "training_set = train_datagen.flow_from_directory('/content/drive/MyDrive/New_Dataset/train',\n",
        "                                                 target_size = (224, 224),\n",
        "                                                 batch_size = 32,\n",
        "                                                 class_mode = 'categorical')"
      ],
      "execution_count": 13,
      "outputs": [
        {
          "output_type": "stream",
          "text": [
            "Found 846 images belonging to 2 classes.\n"
          ],
          "name": "stdout"
        }
      ]
    },
    {
      "cell_type": "code",
      "metadata": {
        "colab": {
          "base_uri": "https://localhost:8080/"
        },
        "id": "TyJVknZxIMGq",
        "outputId": "567fdd3c-2bb0-4633-c927-72b3df49134a"
      },
      "source": [
        "test_set = test_datagen.flow_from_directory('/content/drive/MyDrive/New_Dataset/test',\n",
        "                                            target_size = (224, 224),\n",
        "                                            batch_size = 32,\n",
        "                                            class_mode = 'categorical')"
      ],
      "execution_count": 14,
      "outputs": [
        {
          "output_type": "stream",
          "text": [
            "Found 280 images belonging to 2 classes.\n"
          ],
          "name": "stdout"
        }
      ]
    },
    {
      "cell_type": "code",
      "metadata": {
        "colab": {
          "base_uri": "https://localhost:8080/"
        },
        "id": "t59TKSVPInzc",
        "outputId": "1a69167c-d0cf-4220-d566-b3620158eac5"
      },
      "source": [
        "# fit the model\n",
        "r = model.fit(\n",
        "  training_set,\n",
        "  validation_data=test_set,\n",
        "  epochs=10,\n",
        "  steps_per_epoch=len(training_set),\n",
        "  validation_steps=len(test_set)\n",
        "\n",
        ")"
      ],
      "execution_count": 15,
      "outputs": [
        {
          "output_type": "stream",
          "text": [
            "Epoch 1/10\n",
            "27/27 [==============================] - 429s 15s/step - loss: 0.8192 - accuracy: 0.6684 - val_loss: 0.0538 - val_accuracy: 0.9786\n",
            "Epoch 2/10\n",
            "27/27 [==============================] - 43s 2s/step - loss: 0.0766 - accuracy: 0.9741 - val_loss: 0.0267 - val_accuracy: 0.9929\n",
            "Epoch 3/10\n",
            "27/27 [==============================] - 43s 2s/step - loss: 0.0296 - accuracy: 0.9879 - val_loss: 0.0227 - val_accuracy: 0.9964\n",
            "Epoch 4/10\n",
            "27/27 [==============================] - 43s 2s/step - loss: 0.0333 - accuracy: 0.9840 - val_loss: 0.0238 - val_accuracy: 0.9929\n",
            "Epoch 5/10\n",
            "27/27 [==============================] - 43s 2s/step - loss: 0.0137 - accuracy: 0.9946 - val_loss: 0.0203 - val_accuracy: 0.9893\n",
            "Epoch 6/10\n",
            "27/27 [==============================] - 43s 2s/step - loss: 0.0143 - accuracy: 0.9935 - val_loss: 0.0160 - val_accuracy: 0.9929\n",
            "Epoch 7/10\n",
            "27/27 [==============================] - 43s 2s/step - loss: 0.0133 - accuracy: 1.0000 - val_loss: 0.0139 - val_accuracy: 0.9929\n",
            "Epoch 8/10\n",
            "27/27 [==============================] - 44s 2s/step - loss: 0.0081 - accuracy: 1.0000 - val_loss: 0.0135 - val_accuracy: 0.9929\n",
            "Epoch 9/10\n",
            "27/27 [==============================] - 43s 2s/step - loss: 0.0061 - accuracy: 0.9993 - val_loss: 0.0183 - val_accuracy: 0.9893\n",
            "Epoch 10/10\n",
            "27/27 [==============================] - 43s 2s/step - loss: 0.0074 - accuracy: 0.9991 - val_loss: 0.0206 - val_accuracy: 0.9893\n"
          ],
          "name": "stdout"
        }
      ]
    },
    {
      "cell_type": "code",
      "metadata": {
        "id": "9NsA5dXJI6vb",
        "colab": {
          "base_uri": "https://localhost:8080/",
          "height": 513
        },
        "outputId": "1035a3e2-c732-471e-bef4-e16892a1f623"
      },
      "source": [
        "# plot the loss\n",
        "\n",
        "plt.plot(r.history['loss'], label='train loss')\n",
        "plt.plot(r.history['val_loss'], label='val loss')\n",
        "plt.legend()\n",
        "plt.show()\n",
        "\n",
        "# plot the accuracy\n",
        "plt.plot(r.history['accuracy'], label='train acc')\n",
        "plt.plot(r.history['val_accuracy'], label='val acc')\n",
        "plt.legend()\n",
        "plt.show()"
      ],
      "execution_count": 16,
      "outputs": [
        {
          "output_type": "display_data",
          "data": {
            "image/png": "[encoded data removed]",
            "text/plain": [
              "<Figure size 432x288 with 1 Axes>"
            ]
          },
          "metadata": {
            "tags": [],
            "needs_background": "light"
          }
        },
        {
          "output_type": "display_data",
          "data": {
            "image/png": "[encoded data removed]",
            "text/plain": [
              "<Figure size 432x288 with 1 Axes>"
            ]
          },
          "metadata": {
            "tags": [],
            "needs_background": "light"
          }
        }
      ]
    },
    {
      "cell_type": "code",
      "metadata": {
        "id": "dyy80c8COUKj"
      },
      "source": [
        "model.save('model_vgg16.h5')"
      ],
      "execution_count": 17,
      "outputs": []
    },
    {
      "cell_type": "code",
      "metadata": {
        "id": "F2IcjZliOnsF"
      },
      "source": [
        "y_pred = model.predict(test_set)"
      ],
      "execution_count": 18,
      "outputs": []
    },
    {
      "cell_type": "code",
      "metadata": {
        "id": "bmGbv6m_Osbw",
        "colab": {
          "base_uri": "https://localhost:8080/"
        },
        "outputId": "096e0b9e-f9fa-4ce1-d39a-fd6ef6f7bd00"
      },
      "source": [
        "y_pred"
      ],
      "execution_count": 19,
      "outputs": [
        {
          "output_type": "execute_result",
          "data": {
            "text/plain": [
              "array([[9.91412282e-01, 8.58774688e-03],\n",
              "       [1.25020364e-04, 9.99874949e-01],\n",
              "       [9.80940521e-01, 1.90594736e-02],\n",
              "       [9.99968052e-01, 3.20066465e-05],\n",
              "       [9.60637450e-01, 3.93625274e-02],\n",
              "       [3.17905433e-05, 9.99968171e-01],\n",
              "       [9.71147597e-01, 2.88524106e-02],\n",
              "       [9.99854207e-01, 1.45794009e-04],\n",
              "       [8.28696251e-01, 1.71303749e-01],\n",
              "       [9.93279874e-01, 6.72013685e-03],\n",
              "       [1.19403958e-05, 9.99988079e-01],\n",
              "       [4.34105568e-05, 9.99956608e-01],\n",
              "       [3.77168953e-06, 9.99996185e-01],\n",
              "       [2.56021831e-05, 9.99974370e-01],\n",
              "       [5.45305375e-05, 9.99945521e-01],\n",
              "       [6.64929889e-09, 1.00000000e+00],\n",
              "       [9.98602808e-01, 1.39715185e-03],\n",
              "       [2.96032339e-01, 7.03967631e-01],\n",
              "       [9.32263434e-01, 6.77365884e-02],\n",
              "       [9.99312162e-01, 6.87828520e-04],\n",
              "       [1.21091734e-05, 9.99987841e-01],\n",
              "       [2.13337285e-06, 9.99997854e-01],\n",
              "       [1.04859919e-05, 9.99989510e-01],\n",
              "       [9.99325275e-01, 6.74706942e-04],\n",
              "       [9.99923587e-01, 7.64305587e-05],\n",
              "       [9.99303102e-01, 6.96861651e-04],\n",
              "       [4.13894741e-04, 9.99586165e-01],\n",
              "       [3.67991298e-01, 6.32008731e-01],\n",
              "       [2.72335706e-06, 9.99997258e-01],\n",
              "       [9.97435629e-01, 2.56442511e-03],\n",
              "       [9.95852828e-01, 4.14721854e-03],\n",
              "       [4.22971170e-05, 9.99957681e-01],\n",
              "       [4.78147285e-07, 9.99999523e-01],\n",
              "       [9.96857166e-01, 3.14284652e-03],\n",
              "       [9.99786556e-01, 2.13450345e-04],\n",
              "       [9.99332845e-01, 6.67113229e-04],\n",
              "       [1.14602631e-06, 9.99998808e-01],\n",
              "       [9.99868512e-01, 1.31495661e-04],\n",
              "       [3.74604933e-05, 9.99962568e-01],\n",
              "       [1.39940255e-07, 9.99999881e-01],\n",
              "       [9.76691604e-01, 2.33083405e-02],\n",
              "       [8.25163484e-01, 1.74836531e-01],\n",
              "       [1.42927107e-07, 9.99999881e-01],\n",
              "       [4.95800805e-06, 9.99994993e-01],\n",
              "       [2.56386284e-06, 9.99997377e-01],\n",
              "       [2.38720950e-05, 9.99976158e-01],\n",
              "       [1.98698834e-01, 8.01301181e-01],\n",
              "       [9.99111235e-01, 8.88807990e-04],\n",
              "       [4.13090703e-07, 9.99999642e-01],\n",
              "       [2.13757244e-06, 9.99997854e-01],\n",
              "       [8.69312498e-06, 9.99991298e-01],\n",
              "       [9.99503255e-01, 4.96710127e-04],\n",
              "       [7.09590404e-06, 9.99992847e-01],\n",
              "       [9.98523653e-01, 1.47639634e-03],\n",
              "       [9.51378107e-01, 4.86219525e-02],\n",
              "       [9.99841452e-01, 1.58499373e-04],\n",
              "       [9.97029662e-01, 2.97027244e-03],\n",
              "       [9.99117672e-01, 8.82346067e-04],\n",
              "       [9.99868274e-01, 1.31664026e-04],\n",
              "       [1.57587453e-06, 9.99998450e-01],\n",
              "       [9.93334055e-01, 6.66587101e-03],\n",
              "       [1.48984318e-05, 9.99985099e-01],\n",
              "       [2.64203791e-05, 9.99973536e-01],\n",
              "       [9.99953866e-01, 4.61722375e-05],\n",
              "       [8.42942711e-08, 9.99999881e-01],\n",
              "       [3.36851191e-09, 1.00000000e+00],\n",
              "       [9.99974370e-01, 2.56697331e-05],\n",
              "       [4.12140722e-08, 1.00000000e+00],\n",
              "       [2.51288526e-07, 9.99999762e-01],\n",
              "       [7.87215058e-08, 9.99999881e-01],\n",
              "       [8.34289153e-07, 9.99999166e-01],\n",
              "       [2.23470895e-04, 9.99776542e-01],\n",
              "       [9.99984264e-01, 1.57546838e-05],\n",
              "       [5.15977888e-07, 9.99999523e-01],\n",
              "       [5.69471069e-07, 9.99999404e-01],\n",
              "       [9.96055484e-01, 3.94448685e-03],\n",
              "       [9.99916673e-01, 8.33418817e-05],\n",
              "       [1.09636778e-04, 9.99890327e-01],\n",
              "       [4.73599039e-06, 9.99995232e-01],\n",
              "       [9.98919964e-01, 1.08003267e-03],\n",
              "       [9.84007835e-01, 1.59921516e-02],\n",
              "       [2.67639666e-06, 9.99997377e-01],\n",
              "       [5.69167582e-07, 9.99999404e-01],\n",
              "       [7.87377019e-07, 9.99999166e-01],\n",
              "       [9.99979258e-01, 2.07869962e-05],\n",
              "       [6.11243422e-06, 9.99993920e-01],\n",
              "       [1.00000000e+00, 1.72474621e-08],\n",
              "       [7.84175569e-09, 1.00000000e+00],\n",
              "       [9.79446292e-01, 2.05537397e-02],\n",
              "       [9.99892712e-01, 1.07242748e-04],\n",
              "       [2.81049211e-07, 9.99999762e-01],\n",
              "       [9.99915361e-01, 8.45927934e-05],\n",
              "       [9.63728726e-01, 3.62712853e-02],\n",
              "       [9.99857903e-01, 1.42111428e-04],\n",
              "       [2.71825575e-05, 9.99972820e-01],\n",
              "       [9.97969925e-01, 2.03009741e-03],\n",
              "       [9.98985996e-08, 9.99999881e-01],\n",
              "       [1.71802952e-07, 9.99999881e-01],\n",
              "       [1.09461041e-06, 9.99998927e-01],\n",
              "       [1.13215003e-06, 9.99998927e-01],\n",
              "       [9.99861360e-01, 1.38679781e-04],\n",
              "       [9.99914765e-01, 8.52617377e-05],\n",
              "       [9.99700904e-01, 2.99164210e-04],\n",
              "       [1.50728212e-07, 9.99999881e-01],\n",
              "       [9.99996305e-01, 3.71668375e-06],\n",
              "       [1.00000000e+00, 4.91044538e-10],\n",
              "       [9.99955177e-01, 4.48311403e-05],\n",
              "       [9.99579728e-01, 4.20223892e-04],\n",
              "       [9.99918103e-01, 8.19001871e-05],\n",
              "       [4.08215237e-05, 9.99959230e-01],\n",
              "       [2.97625235e-07, 9.99999762e-01],\n",
              "       [9.98822391e-01, 1.17755926e-03],\n",
              "       [9.99969363e-01, 3.06846960e-05],\n",
              "       [8.21497679e-01, 1.78502306e-01],\n",
              "       [9.99720395e-01, 2.79553467e-04],\n",
              "       [9.89204167e-08, 9.99999881e-01],\n",
              "       [1.00000000e+00, 2.45524601e-09],\n",
              "       [1.82364246e-07, 9.99999762e-01],\n",
              "       [4.67211381e-03, 9.95327950e-01],\n",
              "       [1.53489543e-06, 9.99998450e-01],\n",
              "       [1.64448963e-07, 9.99999881e-01],\n",
              "       [3.71641040e-01, 6.28358960e-01],\n",
              "       [3.52325187e-05, 9.99964714e-01],\n",
              "       [9.55756426e-01, 4.42435890e-02],\n",
              "       [1.84927158e-05, 9.99981523e-01],\n",
              "       [9.99097705e-01, 9.02351225e-04],\n",
              "       [1.71033989e-05, 9.99982953e-01],\n",
              "       [9.99748647e-01, 2.51382298e-04],\n",
              "       [9.97299135e-01, 2.70086015e-03],\n",
              "       [2.24030900e-05, 9.99977589e-01],\n",
              "       [9.96016562e-01, 3.98341799e-03],\n",
              "       [2.96457557e-07, 9.99999762e-01],\n",
              "       [9.99893069e-01, 1.06976586e-04],\n",
              "       [2.55204807e-03, 9.97447968e-01],\n",
              "       [9.66675162e-01, 3.33248563e-02],\n",
              "       [9.62018609e-01, 3.79814096e-02],\n",
              "       [9.99996424e-01, 3.56659802e-06],\n",
              "       [9.31466104e-07, 9.99999046e-01],\n",
              "       [1.89864004e-04, 9.99810159e-01],\n",
              "       [9.99992609e-01, 7.36215179e-06],\n",
              "       [8.05710158e-07, 9.99999166e-01],\n",
              "       [8.87726856e-07, 9.99999166e-01],\n",
              "       [9.99999762e-01, 2.03286859e-07],\n",
              "       [8.31891358e-01, 1.68108612e-01],\n",
              "       [1.15487666e-07, 9.99999881e-01],\n",
              "       [9.99816239e-01, 1.83794735e-04],\n",
              "       [9.80645239e-01, 1.93547867e-02],\n",
              "       [2.97643594e-04, 9.99702275e-01],\n",
              "       [4.24276232e-06, 9.99995708e-01],\n",
              "       [2.94012807e-07, 9.99999762e-01],\n",
              "       [2.46364061e-06, 9.99997497e-01],\n",
              "       [9.91238773e-01, 8.76120944e-03],\n",
              "       [8.47782928e-07, 9.99999166e-01],\n",
              "       [9.99999881e-01, 1.16503614e-07],\n",
              "       [3.34584358e-04, 9.99665380e-01],\n",
              "       [4.50638872e-05, 9.99954939e-01],\n",
              "       [9.84916747e-01, 1.50832869e-02],\n",
              "       [9.99902606e-01, 9.73859133e-05],\n",
              "       [9.99533415e-01, 4.66650585e-04],\n",
              "       [4.58534487e-06, 9.99995470e-01],\n",
              "       [2.55613571e-07, 9.99999762e-01],\n",
              "       [9.99709547e-01, 2.90473108e-04],\n",
              "       [1.14653645e-07, 9.99999881e-01],\n",
              "       [9.99999881e-01, 1.34147285e-07],\n",
              "       [9.99953270e-01, 4.67485697e-05],\n",
              "       [6.25051762e-05, 9.99937534e-01],\n",
              "       [9.75898862e-01, 2.41011232e-02],\n",
              "       [4.86462204e-06, 9.99995112e-01],\n",
              "       [1.00000000e+00, 1.79654291e-09],\n",
              "       [9.99971628e-01, 2.84192029e-05],\n",
              "       [1.00000000e+00, 3.30155125e-09],\n",
              "       [9.99837160e-01, 1.62780940e-04],\n",
              "       [9.85645235e-01, 1.43547915e-02],\n",
              "       [9.99773920e-01, 2.26104938e-04],\n",
              "       [9.03759897e-01, 9.62400883e-02],\n",
              "       [1.38823902e-02, 9.86117661e-01],\n",
              "       [9.99889016e-01, 1.10995570e-04],\n",
              "       [4.44817269e-05, 9.99955535e-01],\n",
              "       [9.96570230e-01, 3.42979794e-03],\n",
              "       [9.99923110e-01, 7.69256512e-05],\n",
              "       [9.97381389e-01, 2.61858874e-03],\n",
              "       [9.99928713e-01, 7.13190384e-05],\n",
              "       [7.90576564e-08, 9.99999881e-01],\n",
              "       [1.00000000e+00, 8.54865601e-09],\n",
              "       [9.94067430e-01, 5.93261281e-03],\n",
              "       [2.44797830e-05, 9.99975562e-01],\n",
              "       [2.09100854e-05, 9.99979138e-01],\n",
              "       [9.93633221e-05, 9.99900579e-01],\n",
              "       [3.17070629e-07, 9.99999642e-01],\n",
              "       [9.99955773e-01, 4.42575583e-05],\n",
              "       [9.97544110e-01, 2.45581591e-03],\n",
              "       [1.14768071e-07, 9.99999881e-01],\n",
              "       [9.99626040e-01, 3.73883784e-04],\n",
              "       [1.07002334e-05, 9.99989271e-01],\n",
              "       [9.99677896e-01, 3.22070584e-04],\n",
              "       [1.88474496e-05, 9.99981165e-01],\n",
              "       [9.99480069e-01, 5.19924448e-04],\n",
              "       [1.17408625e-07, 9.99999881e-01],\n",
              "       [9.86010832e-07, 9.99999046e-01],\n",
              "       [2.66250299e-05, 9.99973416e-01],\n",
              "       [9.99364316e-01, 6.35722128e-04],\n",
              "       [1.06155627e-08, 1.00000000e+00],\n",
              "       [3.69065191e-07, 9.99999642e-01],\n",
              "       [9.99994993e-01, 4.97907513e-06],\n",
              "       [2.65883282e-02, 9.73411679e-01],\n",
              "       [2.13188014e-06, 9.99997854e-01],\n",
              "       [9.99460518e-01, 5.39447006e-04],\n",
              "       [9.99763787e-01, 2.36184671e-04],\n",
              "       [3.94760673e-06, 9.99996066e-01],\n",
              "       [3.14686190e-06, 9.99996901e-01],\n",
              "       [9.98820245e-01, 1.17975369e-03],\n",
              "       [1.50758672e-06, 9.99998450e-01],\n",
              "       [5.37009919e-06, 9.99994636e-01],\n",
              "       [9.99887705e-01, 1.12269736e-04],\n",
              "       [1.94945998e-04, 9.99805033e-01],\n",
              "       [8.52115045e-05, 9.99914765e-01],\n",
              "       [2.80943550e-05, 9.99971867e-01],\n",
              "       [9.99745786e-01, 2.54167273e-04],\n",
              "       [4.41456450e-06, 9.99995589e-01],\n",
              "       [1.54213468e-03, 9.98457909e-01],\n",
              "       [9.52013373e-01, 4.79865894e-02],\n",
              "       [9.99907374e-01, 9.25864297e-05],\n",
              "       [9.88257440e-08, 9.99999881e-01],\n",
              "       [1.69614430e-06, 9.99998331e-01],\n",
              "       [1.13711998e-04, 9.99886274e-01],\n",
              "       [9.99970078e-01, 2.99558997e-05],\n",
              "       [9.99745905e-01, 2.54113285e-04],\n",
              "       [7.21199569e-07, 9.99999285e-01],\n",
              "       [1.32108626e-05, 9.99986768e-01],\n",
              "       [1.28427175e-07, 9.99999881e-01],\n",
              "       [9.99902964e-01, 9.70475594e-05],\n",
              "       [9.95754123e-01, 4.24590940e-03],\n",
              "       [3.27019507e-07, 9.99999642e-01],\n",
              "       [1.00000000e+00, 3.06692449e-09],\n",
              "       [9.99897242e-01, 1.02724392e-04],\n",
              "       [9.97136235e-01, 2.86379899e-03],\n",
              "       [9.93830383e-01, 6.16965303e-03],\n",
              "       [9.19156207e-07, 9.99999046e-01],\n",
              "       [1.47090186e-05, 9.99985337e-01],\n",
              "       [9.90900874e-01, 9.09916684e-03],\n",
              "       [9.37886417e-01, 6.21136241e-02],\n",
              "       [1.00000000e+00, 3.84591416e-08],\n",
              "       [8.06193275e-05, 9.99919415e-01],\n",
              "       [2.33534550e-07, 9.99999762e-01],\n",
              "       [4.29683979e-07, 9.99999523e-01],\n",
              "       [9.00274456e-01, 9.97255668e-02],\n",
              "       [1.38092730e-06, 9.99998569e-01],\n",
              "       [9.99989986e-01, 9.97963980e-06],\n",
              "       [9.99863982e-01, 1.36041388e-04],\n",
              "       [9.99982119e-01, 1.79342296e-05],\n",
              "       [9.99936342e-01, 6.35961333e-05],\n",
              "       [4.57232318e-06, 9.99995470e-01],\n",
              "       [2.68744328e-03, 9.97312546e-01],\n",
              "       [9.98835266e-01, 1.16477639e-03],\n",
              "       [9.15158921e-07, 9.99999046e-01],\n",
              "       [1.06810434e-02, 9.89319026e-01],\n",
              "       [1.24852434e-02, 9.87514734e-01],\n",
              "       [2.58008135e-04, 9.99741971e-01],\n",
              "       [1.00000000e+00, 5.42836887e-08],\n",
              "       [9.98180509e-01, 1.81949534e-03],\n",
              "       [1.41704675e-06, 9.99998569e-01],\n",
              "       [2.30045970e-07, 9.99999762e-01],\n",
              "       [9.99911904e-01, 8.80473890e-05],\n",
              "       [1.77044785e-05, 9.99982238e-01],\n",
              "       [4.57186843e-07, 9.99999523e-01],\n",
              "       [9.64831202e-07, 9.99999046e-01],\n",
              "       [9.82371986e-01, 1.76280234e-02],\n",
              "       [4.90988839e-07, 9.99999523e-01],\n",
              "       [9.94728863e-01, 5.27114840e-03],\n",
              "       [2.41392542e-07, 9.99999762e-01],\n",
              "       [4.15843533e-06, 9.99995828e-01],\n",
              "       [9.99958634e-01, 4.14023852e-05],\n",
              "       [1.51130407e-05, 9.99984860e-01],\n",
              "       [1.73846820e-05, 9.99982595e-01],\n",
              "       [9.99651670e-01, 3.48300295e-04],\n",
              "       [9.97026265e-01, 2.97378539e-03],\n",
              "       [4.76289955e-07, 9.99999523e-01],\n",
              "       [6.06079766e-07, 9.99999404e-01],\n",
              "       [9.98743832e-01, 1.25616929e-03],\n",
              "       [9.99911427e-01, 8.85629051e-05]], dtype=float32)"
            ]
          },
          "metadata": {
            "tags": []
          },
          "execution_count": 19
        }
      ]
    },
    {
      "cell_type": "code",
      "metadata": {
        "id": "x2Ckhd4NOv2o"
      },
      "source": [
        "import numpy as np\n",
        "y_pred = np.argmax(y_pred, axis=1)"
      ],
      "execution_count": 20,
      "outputs": []
    },
    {
      "cell_type": "code",
      "metadata": {
        "colab": {
          "base_uri": "https://localhost:8080/"
        },
        "id": "wtpOn9QvO-XC",
        "outputId": "cd7200af-f89a-41bf-e3c9-afebe3bc166c"
      },
      "source": [
        "y_pred"
      ],
      "execution_count": 21,
      "outputs": [
        {
          "output_type": "execute_result",
          "data": {
            "text/plain": [
              "array([0, 1, 0, 0, 0, 1, 0, 0, 0, 0, 1, 1, 1, 1, 1, 1, 0, 1, 0, 0, 1, 1,\n",
              "       1, 0, 0, 0, 1, 1, 1, 0, 0, 1, 1, 0, 0, 0, 1, 0, 1, 1, 0, 0, 1, 1,\n",
              "       1, 1, 1, 0, 1, 1, 1, 0, 1, 0, 0, 0, 0, 0, 0, 1, 0, 1, 1, 0, 1, 1,\n",
              "       0, 1, 1, 1, 1, 1, 0, 1, 1, 0, 0, 1, 1, 0, 0, 1, 1, 1, 0, 1, 0, 1,\n",
              "       0, 0, 1, 0, 0, 0, 1, 0, 1, 1, 1, 1, 0, 0, 0, 1, 0, 0, 0, 0, 0, 1,\n",
              "       1, 0, 0, 0, 0, 1, 0, 1, 1, 1, 1, 1, 1, 0, 1, 0, 1, 0, 0, 1, 0, 1,\n",
              "       0, 1, 0, 0, 0, 1, 1, 0, 1, 1, 0, 0, 1, 0, 0, 1, 1, 1, 1, 0, 1, 0,\n",
              "       1, 1, 0, 0, 0, 1, 1, 0, 1, 0, 0, 1, 0, 1, 0, 0, 0, 0, 0, 0, 0, 1,\n",
              "       0, 1, 0, 0, 0, 0, 1, 0, 0, 1, 1, 1, 1, 0, 0, 1, 0, 1, 0, 1, 0, 1,\n",
              "       1, 1, 0, 1, 1, 0, 1, 1, 0, 0, 1, 1, 0, 1, 1, 0, 1, 1, 1, 0, 1, 1,\n",
              "       0, 0, 1, 1, 1, 0, 0, 1, 1, 1, 0, 0, 1, 0, 0, 0, 0, 1, 1, 0, 0, 0,\n",
              "       1, 1, 1, 0, 1, 0, 0, 0, 0, 1, 1, 0, 1, 1, 1, 1, 0, 0, 1, 1, 0, 1,\n",
              "       1, 1, 0, 1, 0, 1, 1, 0, 1, 1, 0, 0, 1, 1, 0, 0])"
            ]
          },
          "metadata": {
            "tags": []
          },
          "execution_count": 21
        }
      ]
    },
    {
      "cell_type": "code",
      "metadata": {
        "id": "0i0LN7wHO_rn"
      },
      "source": [
        "from tensorflow.keras.models import load_model\n",
        "from tensorflow.keras.preprocessing import image"
      ],
      "execution_count": 22,
      "outputs": []
    },
    {
      "cell_type": "code",
      "metadata": {
        "id": "RLSHdueqPDG0"
      },
      "source": [
        "model=load_model('model_vgg19.h5')"
      ],
      "execution_count": 23,
      "outputs": []
    },
    {
      "cell_type": "code",
      "metadata": {
        "id": "LH7kOhvFPGRV"
      },
      "source": [
        "img=image.load_img('/content/drive/MyDrive/New_Dataset/test/normal/IM-0370-0001.jpeg',target_size=(224,224))"
      ],
      "execution_count": 24,
      "outputs": []
    },
    {
      "cell_type": "code",
      "metadata": {
        "colab": {
          "base_uri": "https://localhost:8080/"
        },
        "id": "5AFhHeQGPKR5",
        "outputId": "067f0c71-7ae1-4782-8897-aa002b66c3af"
      },
      "source": [
        "x=image.img_to_array(img)\n",
        "x"
      ],
      "execution_count": 25,
      "outputs": [
        {
          "output_type": "execute_result",
          "data": {
            "text/plain": [
              "array([[[254., 254., 254.],\n",
              "        [255., 255., 255.],\n",
              "        [255., 255., 255.],\n",
              "        ...,\n",
              "        [156., 156., 156.],\n",
              "        [161., 161., 161.],\n",
              "        [163., 163., 163.]],\n",
              "\n",
              "       [[254., 254., 254.],\n",
              "        [255., 255., 255.],\n",
              "        [255., 255., 255.],\n",
              "        ...,\n",
              "        [120., 120., 120.],\n",
              "        [122., 122., 122.],\n",
              "        [118., 118., 118.]],\n",
              "\n",
              "       [[255., 255., 255.],\n",
              "        [255., 255., 255.],\n",
              "        [255., 255., 255.],\n",
              "        ...,\n",
              "        [ 86.,  86.,  86.],\n",
              "        [ 81.,  81.,  81.],\n",
              "        [ 87.,  87.,  87.]],\n",
              "\n",
              "       ...,\n",
              "\n",
              "       [[  0.,   0.,   0.],\n",
              "        [  0.,   0.,   0.],\n",
              "        [  0.,   0.,   0.],\n",
              "        ...,\n",
              "        [  0.,   0.,   0.],\n",
              "        [  0.,   0.,   0.],\n",
              "        [  0.,   0.,   0.]],\n",
              "\n",
              "       [[  0.,   0.,   0.],\n",
              "        [  0.,   0.,   0.],\n",
              "        [  0.,   0.,   0.],\n",
              "        ...,\n",
              "        [  0.,   0.,   0.],\n",
              "        [  0.,   0.,   0.],\n",
              "        [  0.,   0.,   0.]],\n",
              "\n",
              "       [[  0.,   0.,   0.],\n",
              "        [  0.,   0.,   0.],\n",
              "        [  0.,   0.,   0.],\n",
              "        ...,\n",
              "        [  0.,   0.,   0.],\n",
              "        [  0.,   0.,   0.],\n",
              "        [  0.,   0.,   0.]]], dtype=float32)"
            ]
          },
          "metadata": {
            "tags": []
          },
          "execution_count": 25
        }
      ]
    },
    {
      "cell_type": "code",
      "metadata": {
        "colab": {
          "base_uri": "https://localhost:8080/"
        },
        "id": "gNJ49Wb0PWPG",
        "outputId": "1f23b7ac-81ec-4637-96c0-4b913f4f5f61"
      },
      "source": [
        "x.shape"
      ],
      "execution_count": 26,
      "outputs": [
        {
          "output_type": "execute_result",
          "data": {
            "text/plain": [
              "(224, 224, 3)"
            ]
          },
          "metadata": {
            "tags": []
          },
          "execution_count": 26
        }
      ]
    },
    {
      "cell_type": "code",
      "metadata": {
        "id": "OIal_57SPY_Q"
      },
      "source": [
        "\n",
        "\n",
        "\n",
        "\n",
        "\n",
        "\n",
        "\n",
        "x=x/255"
      ],
      "execution_count": 27,
      "outputs": []
    },
    {
      "cell_type": "code",
      "metadata": {
        "colab": {
          "base_uri": "https://localhost:8080/"
        },
        "id": "Om3k4mUKPauO",
        "outputId": "1b5a5b6f-5335-467e-e09c-b0e10e499cde"
      },
      "source": [
        "x=np.expand_dims(x,axis=0)\n",
        "img_data=preprocess_input(x)\n",
        "img_data.shape"
      ],
      "execution_count": 28,
      "outputs": [
        {
          "output_type": "execute_result",
          "data": {
            "text/plain": [
              "(1, 224, 224, 3)"
            ]
          },
          "metadata": {
            "tags": []
          },
          "execution_count": 28
        }
      ]
    },
    {
      "cell_type": "code",
      "metadata": {
        "colab": {
          "base_uri": "https://localhost:8080/"
        },
        "id": "SRbkvkTfPcaI",
        "outputId": "77e4d88d-697c-4d2d-f532-7a59fae8de8e"
      },
      "source": [
        "model.predict(img_data)"
      ],
      "execution_count": 29,
      "outputs": [
        {
          "output_type": "execute_result",
          "data": {
            "text/plain": [
              "array([[9.9999094e-01, 9.0423828e-06]], dtype=float32)"
            ]
          },
          "metadata": {
            "tags": []
          },
          "execution_count": 29
        }
      ]
    },
    {
      "cell_type": "code",
      "metadata": {
        "id": "hGinwzOYPeEF"
      },
      "source": [
        "a=np.argmax(model.predict(img_data), axis=1)"
      ],
      "execution_count": 30,
      "outputs": []
    },
    {
      "cell_type": "code",
      "metadata": {
        "colab": {
          "base_uri": "https://localhost:8080/"
        },
        "id": "L7upplW7Pgtp",
        "outputId": "438b92a0-35bb-4360-ad26-9c9ab79ae479"
      },
      "source": [
        "a[0]"
      ],
      "execution_count": 31,
      "outputs": [
        {
          "output_type": "execute_result",
          "data": {
            "text/plain": [
              "0"
            ]
          },
          "metadata": {
            "tags": []
          },
          "execution_count": 31
        }
      ]
    },
    {
      "cell_type": "code",
      "metadata": {
        "colab": {
          "base_uri": "https://localhost:8080/"
        },
        "id": "3srIIuxsPhBj",
        "outputId": "5ed34f4a-9c62-4dcf-d3b1-11992592cde7"
      },
      "source": [
        "if (a==1):\n",
        "    print(\"normal\")\n",
        "else:\n",
        "    print(\"Covid Positive\")"
      ],
      "execution_count": 32,
      "outputs": [
        {
          "output_type": "stream",
          "text": [
            "Covid Positive\n"
          ],
          "name": "stdout"
        }
      ]
    },
    {
      "cell_type": "code",
      "metadata": {
        "id": "aoRL0xNKP-1w"
      },
      "source": [
        ""
      ],
      "execution_count": null,
      "outputs": []
    }
  ]
}